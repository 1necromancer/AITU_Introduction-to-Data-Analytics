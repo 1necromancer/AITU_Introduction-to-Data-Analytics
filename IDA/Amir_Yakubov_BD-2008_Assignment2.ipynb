{
 "cells": [
  {
   "cell_type": "markdown",
   "metadata": {},
   "source": [
    "# IDA: Assignment 2\n",
    "\n",
    "### Deadline: October 3 (until 23:59)\n",
    "\n",
    "\n",
    "**Instructions:** All answers should be provided in the notebook and then submitted to Moodle. Name of notebook should be in following format:\n",
    " - Name_group_Assignment2.ipynb (ex. Tony_Stark_2009_Assignment1.ipynb). PLEASE, use exactly the **same format.**\n",
    " - Try to use fewer cells for compilation (for example, you can use print for several answers, instead of printing each answer on a separate cell)\n",
    " - **PLEASE:** submit only one jupyter notebook (no zip or csv files) and with your names as in the instruction. Ohterwise, there will be punishment of 30% from your assignment mark.\n",
    " - **IMPORTANT NOTE:** you will get points only for correct answers, not for trials or wrong answers. Your notebook should run when we press **\"Restart Kernel\"** and then press **\"Run All\"**. We are going to check answers only after doing that. If your code do not compile and stops at any question, you will get zero for that question."
   ]
  },
  {
   "cell_type": "markdown",
   "metadata": {},
   "source": [
    "## Q1 (10%)\n",
    "Using **list comprehension** create a new list from `list_q1_1` and `list_q1_2`. For the values at the same position (index), you should have sum of elements if element of `list_q1_1` is smaller (strictly) than the element of `list_q1_2`. Otherwise, you should take their difference. \n",
    "\n",
    "***Note:*** *in the obtained list all values should be positive.*"
   ]
  },
  {
   "cell_type": "code",
   "execution_count": 1,
   "metadata": {},
   "outputs": [
    {
     "name": "stdout",
     "output_type": "stream",
     "text": [
      "[41, 21, 96, 34, 65, 46, 79, 73, 49, 85, 63, 51, 93, 84, 29, 62, 95, 39, 72, 66]\n"
     ]
    }
   ],
   "source": [
    "list_q1_1 = [41, 21, 96, 34, 65, 46, 79, 73, 49, 85, 63, 51, 93, 84, 29, 62, 95, 39, 72, 66]\n",
    "print(list_q1_1)"
   ]
  },
  {
   "cell_type": "code",
   "execution_count": 2,
   "metadata": {},
   "outputs": [
    {
     "name": "stdout",
     "output_type": "stream",
     "text": [
      "[95, 76, 92, 91, 49, 61, 68, 32, 50, 29, 48, 82, 33, 81, 39, 69, 84, 74, 89, 15]\n"
     ]
    }
   ],
   "source": [
    "list_q1_2 = [95, 76, 92, 91, 49, 61, 68, 32, 50, 29, 48, 82, 33, 81, 39, 69, 84, 74, 89, 15]\n",
    "print(list_q1_2)"
   ]
  },
  {
   "cell_type": "code",
   "execution_count": 3,
   "metadata": {},
   "outputs": [
    {
     "name": "stdout",
     "output_type": "stream",
     "text": [
      "[136, 97, 4, 125, 16, 107, 11, 41, 99, 56, 15, 133, 60, 3, 68, 131, 11, 113, 161, 51]\n"
     ]
    }
   ],
   "source": [
    "# your code here\n",
    "import math\n",
    "\n",
    "new_list = [list_q1_1[i] + list_q1_2[i] if list_q1_1[i] < list_q1_2[i] \n",
    "      else list_q1_1[i] - list_q1_2[i] for i in range(len(list_q1_1))]\n",
    "print(new_list)\n",
    "                                                                                         \n"
   ]
  },
  {
   "cell_type": "markdown",
   "metadata": {},
   "source": [
    "## Q2 (10%)\n",
    "Using **list comprehension** on `list_q2_1` and `list_q2_2` create a new list containing value pairs, where one of them is divisible by another, but do not include two equal elements. For example, (13, 91) should be included, but (91,91) should not)."
   ]
  },
  {
   "cell_type": "code",
   "execution_count": 4,
   "metadata": {},
   "outputs": [
    {
     "name": "stdout",
     "output_type": "stream",
     "text": [
      "[97, 29, 43, 96, 91, 22, 51, 83, 31, 13, 62, 19, 23, 26, 50, 70, 84, 67, 36, 35]\n"
     ]
    }
   ],
   "source": [
    "list_q2_1 = [97, 29, 43, 96, 91, 22, 51, 83, 31, 13,\n",
    "             62, 19, 23, 26, 50, 70, 84, 67, 36, 35]\n",
    "print(list_q2_1)"
   ]
  },
  {
   "cell_type": "code",
   "execution_count": 5,
   "metadata": {},
   "outputs": [
    {
     "name": "stdout",
     "output_type": "stream",
     "text": [
      "[31, 63, 98, 91, 46, 71, 37, 70, 75, 33, 74, 77, 40, 10, 11, 57, 84, 64, 18, 28]\n"
     ]
    }
   ],
   "source": [
    "list_q2_2 = [31, 63, 98, 91, 46, 71, 37, 70, 75, 33,\n",
    "             74, 77, 40, 10, 11, 57, 84, 64, 18, 28]\n",
    "print(list_q2_2)"
   ]
  },
  {
   "cell_type": "code",
   "execution_count": 6,
   "metadata": {},
   "outputs": [
    {
     "name": "stdout",
     "output_type": "stream",
     "text": [
      "[(22, 11), (13, 91), (62, 31), (19, 57), (23, 46), (50, 10), (70, 10), (84, 28), (36, 18), (35, 70)]\n"
     ]
    }
   ],
   "source": [
    "# your code here\n",
    "\n",
    "new_list = [(m, n) for m in list_q2_1 for n in list_q2_2 if (m % n == 0 and m!=n) or (n % m == 0 and n!=m)]\n",
    "print(new_list)"
   ]
  },
  {
   "cell_type": "markdown",
   "metadata": {},
   "source": [
    "## Q3 (10%)\n",
    "Using **list comprehension** obtain a list of all 2-digits prime numbers (for example, 13, 17, 19...).\n",
    "\n",
    "***Note:*** *it can be done with one line of code.*"
   ]
  },
  {
   "cell_type": "code",
   "execution_count": 7,
   "metadata": {},
   "outputs": [
    {
     "name": "stdout",
     "output_type": "stream",
     "text": [
      "[11, 13, 17, 19, 23, 29, 31, 37, 41, 43, 47, 53, 59, 61, 67, 71, 73, 79, 83, 89, 97]\n"
     ]
    }
   ],
   "source": [
    "# your code here\n",
    "\n",
    "prime_numbers = [i for i in range(10 , 100) if i%2!=0 and i%3!=0 and i%5!=0 and i%7!=0]\n",
    "print(prime_numbers)"
   ]
  },
  {
   "cell_type": "markdown",
   "metadata": {},
   "source": [
    "## Q4 (10%)\n",
    "\n",
    "\n",
    "Using **list comprehension** create a windowing lists of 3 elements at a time with step 1 for `list_q4`. \n",
    "\n",
    "Your result should look as following: [[48, 95, 11], [95, 11, 46], [11, 46, 76],..]\n",
    "\n",
    "***Note:*** *it can be done with one line of code.*"
   ]
  },
  {
   "cell_type": "code",
   "execution_count": 8,
   "metadata": {
    "scrolled": true
   },
   "outputs": [
    {
     "name": "stdout",
     "output_type": "stream",
     "text": [
      "[48, 95, 11, 46, 76, 75, 35, 78, 81, 58, 17, 26, 97, 63, 93, 57, 28, 85, 54, 62]\n"
     ]
    }
   ],
   "source": [
    "list_q4 = [48, 95, 11, 46, 76, 75, 35, 78, 81, 58, \n",
    "           17, 26, 97, 63, 93, 57, 28, 85, 54, 62]\n",
    "print(list_q4)"
   ]
  },
  {
   "cell_type": "code",
   "execution_count": 9,
   "metadata": {},
   "outputs": [
    {
     "name": "stdout",
     "output_type": "stream",
     "text": [
      "[[48, 95, 11], [95, 11, 46], [11, 46, 76], [46, 76, 75], [76, 75, 35], [75, 35, 78], [35, 78, 81], [78, 81, 58], [81, 58, 17], [58, 17, 26], [17, 26, 97], [26, 97, 63], [97, 63, 93], [63, 93, 57], [93, 57, 28], [57, 28, 85], [28, 85, 54], [85, 54, 62], [54, 62], [62]]\n"
     ]
    }
   ],
   "source": [
    "# your code here\n",
    "\n",
    "sublists = [list_q4[i: i + 3] for i in range(len(list_q4))]\n",
    "print(sublists)"
   ]
  },
  {
   "cell_type": "markdown",
   "metadata": {},
   "source": [
    "## Q5 (10%)\n",
    "For the string below using **dictionary comprihension** create a dictionary, where key - possible word length, and value - number of words of this length. \n",
    "\n",
    "***Note:*** *you should not consider keys which are not appearing in the text.*"
   ]
  },
  {
   "cell_type": "code",
   "execution_count": 10,
   "metadata": {},
   "outputs": [
    {
     "name": "stdout",
     "output_type": "stream",
     "text": [
      "From they fine john he give of rich he. They age and draw mrs like. Improving end distrusts may instantly was household applauded incommode. Why kept very ever home mrs. Considered sympathize ten uncommonly occasional assistance sufficient not. Letter of on become he tended active enable to. Vicinity relation sensible sociable surprise screened no up as.Death weeks early had their and folly timed put. Hearted forbade on an village ye in fifteen. Age attended betrayed her man raptures laughter. Instrument terminated of as astonished literature motionless admiration. The affection are determine how performed intention discourse but. On merits on so valley indeed assure of. Has add particular boisterous uncommonly are. Early wrong as so manor match. Him necessary shameless discovery consulted one but.\n"
     ]
    }
   ],
   "source": [
    "string_q5 = \"From they fine john he give of rich he. They age and draw mrs like. Improving end distrusts may instantly was household applauded incommode. Why kept very ever home mrs. Considered sympathize ten uncommonly occasional assistance sufficient not. Letter of on become he tended active enable to. Vicinity relation sensible sociable surprise screened no up as.Death weeks early had their and folly timed put. Hearted forbade on an village ye in fifteen. Age attended betrayed her man raptures laughter. Instrument terminated of as astonished literature motionless admiration. The affection are determine how performed intention discourse but. On merits on so valley indeed assure of. Has add particular boisterous uncommonly are. Early wrong as so manor match. Him necessary shameless discovery consulted one but.\"\n",
    "print(string_q5)"
   ]
  },
  {
   "cell_type": "code",
   "execution_count": 11,
   "metadata": {},
   "outputs": [
    {
     "name": "stdout",
     "output_type": "stream",
     "text": [
      "{4: 13, 2: 22, 3: 26, 9: 15, 10: 15, 6: 9, 8: 10, 5: 10, 7: 4}\n"
     ]
    }
   ],
   "source": [
    "# your code here\n",
    "my_new_list = string_q5.replace('.', ' ').split()\n",
    "dictionary = {len(z):len([i for i in my_new_list if len(z) == len(i)]) for z in my_new_list }\n",
    "print(dictionary)"
   ]
  },
  {
   "cell_type": "markdown",
   "metadata": {},
   "source": [
    "## Q6 (10%)\n",
    "Using numpy create two arbitrary matrices A and B of size 3x3 with only 2-digit numbers. And then apply different matrix operations:\n",
    "1. addition\n",
    "2. subtraction\n",
    "3. pointwise multiplication\n",
    "4. pointwise division\n",
    "5. matrix dot product\n",
    "6. transpose\n",
    "7. determinant\n",
    "8. rank\n",
    "9. inverse"
   ]
  },
  {
   "cell_type": "code",
   "execution_count": 12,
   "metadata": {},
   "outputs": [],
   "source": [
    "import numpy as np"
   ]
  },
  {
   "cell_type": "code",
   "execution_count": 13,
   "metadata": {},
   "outputs": [
    {
     "name": "stdout",
     "output_type": "stream",
     "text": [
      "Addition:\n",
      " [[113  93 124]\n",
      " [ 96 112 148]\n",
      " [121 159  98]] \n",
      "\n",
      "Subtraction:\n",
      " [[-69  35  30]\n",
      " [ -2 -74 -46]\n",
      " [-67 -35 -52]] \n",
      "\n",
      "Pointwise multiplication:\n",
      " [[2002 1856 3619]\n",
      " [2303 1767 4947]\n",
      " [2538 6014 1725]] \n",
      "\n",
      "Pointwise division:\n",
      " [[0.24175824 2.20689655 1.63829787]\n",
      " [0.95918367 0.20430108 0.5257732 ]\n",
      " [0.28723404 0.63917526 0.30666667]] \n",
      "\n",
      "Matrix dot product:\n",
      " [[12376 14059 13017]\n",
      " [10002  8077  7877]\n",
      " [ 7657  8780  9008]] \n",
      "\n",
      "Transpose of matrix a:\n",
      " [[22 47 27]\n",
      " [64 19 62]\n",
      " [77 51 23]] \n",
      "\n",
      "Transpose of matrix b:\n",
      " [[91 49 94]\n",
      " [29 93 97]\n",
      " [47 97 75]] \n",
      "\n",
      "Determinant of matrix a:\n",
      " 143871.00000000015 \n",
      "\n",
      "Determinant of matrix b:\n",
      " -251130.00000000023 \n",
      "\n",
      "Rank of matrix a:\n",
      " 3 \n",
      "\n",
      "Rank of matrix b:\n",
      " 3 \n",
      "\n",
      "Inverse of matrix a:\n",
      " [[-0.01894058  0.02295112  0.01251816]\n",
      " [ 0.0020574  -0.01093341  0.01735583]\n",
      " [ 0.01668856  0.00253004 -0.01800224]] \n",
      "\n",
      "Inverse of matrix b:\n",
      " [[ 0.00969219 -0.00949309  0.00620396]\n",
      " [-0.02167403 -0.00958468  0.02597858]\n",
      " [ 0.0158842   0.02429419 -0.02804125]] \n",
      "\n"
     ]
    }
   ],
   "source": [
    "# your code here\n",
    "a = np.random.randint(10,100,(3,3))\n",
    "b = np.random.randint(10,100,(3,3))\n",
    "print('Addition:\\n', np.add(a, b), '\\n')\n",
    "print('Subtraction:\\n', np.subtract(a, b), '\\n')\n",
    "print('Pointwise multiplication:\\n', np.multiply(a, b), '\\n')\n",
    "print('Pointwise division:\\n', np.divide(a, b), '\\n')\n",
    "print('Matrix dot product:\\n', np.dot(a, b), '\\n')\n",
    "print('Transpose of matrix a:\\n', np.transpose(a), '\\n')\n",
    "print('Transpose of matrix b:\\n', np.transpose(b), '\\n')\n",
    "print('Determinant of matrix a:\\n', np.linalg.det(a), '\\n')\n",
    "print('Determinant of matrix b:\\n', np.linalg.det(b), '\\n')\n",
    "print('Rank of matrix a:\\n', np.linalg.matrix_rank(a), '\\n')\n",
    "print('Rank of matrix b:\\n', np.linalg.matrix_rank(b), '\\n')\n",
    "print('Inverse of matrix a:\\n', np.linalg.inv(a), '\\n')\n",
    "print('Inverse of matrix b:\\n', np.linalg.inv(b), '\\n')"
   ]
  },
  {
   "cell_type": "markdown",
   "metadata": {},
   "source": [
    "## Q7 (10%)\n",
    "For the list below obtain numpy array and then do the following steps:\n",
    "1. Find all indexes for values between 40 and 60 (both included).\n",
    "2. Find all values between 40 and 60 (both included).\n",
    "3. Find all numbers divisible by 3 or 5 or 7.\n",
    "4. Find all prime numbers in this array (you may use list obtained in Q3)."
   ]
  },
  {
   "cell_type": "code",
   "execution_count": 14,
   "metadata": {},
   "outputs": [
    {
     "name": "stdout",
     "output_type": "stream",
     "text": [
      "[53, 58, 93, 96, 40, 97, 95, 24, 27, 61, 15, 25, 47, 22, 45, 50, 99, 37, 13, 17, 90, 13, 23, 54, 80, 83, 98, 14, 70, 30]\n"
     ]
    }
   ],
   "source": [
    "list_q7 = [53, 58, 93, 96, 40, 97, 95, 24, 27, 61, \n",
    "           15, 25, 47, 22, 45, 50, 99, 37, 13, 17, \n",
    "           90, 13, 23, 54, 80, 83, 98, 14, 70, 30]\n",
    "print(list_q7)"
   ]
  },
  {
   "cell_type": "code",
   "execution_count": 15,
   "metadata": {},
   "outputs": [
    {
     "name": "stdout",
     "output_type": "stream",
     "text": [
      "All indexes for values between 40 and 60: (array([ 0,  1,  4, 12, 14, 15, 23], dtype=int64),)\n",
      "All values between 40 and 60: [53 58 40 47 45 50 54]\n",
      "All numbers divisible by 3 or 5 or 7: [93 96 40 95 24 27 15 25 45 50 99 90 54 80 98 14 70 30]\n",
      "All prime numbers in this array: [53 97 61 47 37 13 17 13 23 83]\n"
     ]
    }
   ],
   "source": [
    "# your code here\n",
    "a = np.array(list_q7)\n",
    "print('All indexes for values between 40 and 60:', np.where((a>39) & (a<61)))\n",
    "print('All values between 40 and 60:', a[np.where ((a>39) & (a<61))])\n",
    "print('All numbers divisible by 3 or 5 or 7:', a[np.where (((a % 3 == 0) | (a % 5 == 0) | (a % 7 == 0)))])\n",
    "print('All prime numbers in this array:', a[np.where (((a % 2 != 0) & (a % 3 != 0) & (a % 5 != 0)) & (a % 7 != 0))])"
   ]
  },
  {
   "cell_type": "markdown",
   "metadata": {},
   "source": [
    "## Q8 (10%)\n",
    "Do the following tasks:\n",
    "1. Create an array of all 3-digit numbers divisible by 33. \n",
    "2. Create an array of 19 elements betweem 10 and 100.\n",
    "3. Create an array of size 20 with random 2-digit values. Replace all numbers divisible by 3 to 'abc'.\n",
    "4. Create an array of size 20 with random 2-digit values. Find 3 smallest and 3 largest elements. "
   ]
  },
  {
   "cell_type": "code",
   "execution_count": 16,
   "metadata": {
    "scrolled": true
   },
   "outputs": [
    {
     "name": "stdout",
     "output_type": "stream",
     "text": [
      "Array of all 3-digit numbers divisible by 33:\n",
      " [132 165 198 231 264 297 330 363 396 429 462 495 528 561 594 627 660 693\n",
      " 726 759 792 825 858 891 924 957 990] \n",
      "\n",
      "Array of 19 elements betweem 10 and 100:\n",
      " [66 95 75 23 27 23 62 90 37 76 46 76 17 45 41 22 76 97 61] \n",
      "\n",
      "Array of size 20 with random 2-digit values, all numbers divisible by 3 = 'abc'\n",
      " ['95' 'abc' '53' 'abc' '59' 'abc' '35' '86' 'abc' '20' '76' '47' '52' '23'\n",
      " '53' '89' '71' '56' '59' '20'] \n",
      "\n",
      "3 smallest: [30 26 18] \n",
      "3 largest: [95 98 98]\n"
     ]
    }
   ],
   "source": [
    "# your code here\n",
    "my_array = np.arange(100,1000)\n",
    "\n",
    "new_array = my_array[np.where(my_array % 33 == 0)]\n",
    "print('Array of all 3-digit numbers divisible by 33:\\n', new_array, '\\n')\n",
    "\n",
    "my_array1 = np.random.randint(10,100,19)\n",
    "print('Array of 19 elements betweem 10 and 100:\\n', my_array1, '\\n')\n",
    "\n",
    "my_array2 = np.random.randint(10,100,20)\n",
    "my_replace = np.where(my_array2 % 3 == 0, 'abc', my_array2)\n",
    "print(\"Array of size 20 with random 2-digit values, all numbers divisible by 3 = 'abc'\\n\",my_replace, '\\n')\n",
    "\n",
    "my_array3 = np.random.randint(10,100,20)\n",
    "print('3 smallest:', my_array3[np.argsort(-my_array3)[-3:]], '\\n3 largest:', my_array3[np.argsort(my_array3)[-3:]])"
   ]
  },
  {
   "cell_type": "markdown",
   "metadata": {},
   "source": [
    "## Q9 (10%)\n",
    "Create a matrix of size 4x4 with random 2-digit numbers. Do the following tasks:\n",
    "1. Find mean along rows and mean along columns.\n",
    "2. Find max along rows and max along columns.\n",
    "3. Find indexes of min and max values.\n",
    "4. Iteratre over matrix, and print its index as (i,j) and corresponding value. For example, Index: (1,1), Value: 50."
   ]
  },
  {
   "cell_type": "code",
   "execution_count": 17,
   "metadata": {},
   "outputs": [
    {
     "name": "stdout",
     "output_type": "stream",
     "text": [
      "Mean along rows: [49.75 90.5  65.5  50.  ] \n",
      "Mean along columns: [61.   64.5  73.   57.25]\n",
      "\n",
      "Max along rows: [63 98 97 81] \n",
      "Min along columns: [26 12 40 25]\n",
      "\n",
      "Max indexes along rows: [1 0 1 2] \n",
      "Min indexes along columns: [3 3 0 2]\n",
      "\n",
      "Iterate over matrix:\n",
      "Index: (0, 0) Value: 55\n",
      "Index: (0, 1) Value: 63\n",
      "Index: (0, 2) Value: 40\n",
      "Index: (0, 3) Value: 41\n",
      "Index: (1, 0) Value: 98\n",
      "Index: (1, 1) Value: 86\n",
      "Index: (1, 2) Value: 96\n",
      "Index: (1, 3) Value: 82\n",
      "Index: (2, 0) Value: 65\n",
      "Index: (2, 1) Value: 97\n",
      "Index: (2, 2) Value: 75\n",
      "Index: (2, 3) Value: 25\n",
      "Index: (3, 0) Value: 26\n",
      "Index: (3, 1) Value: 12\n",
      "Index: (3, 2) Value: 81\n",
      "Index: (3, 3) Value: 81\n"
     ]
    }
   ],
   "source": [
    "# your code here\n",
    "my_matrix = np.random.randint(10,100,(4,4))\n",
    "\n",
    "print('Mean along rows:', np.mean(my_matrix,axis=1), '\\nMean along columns:', np.mean(my_matrix,axis=0))\n",
    "print('\\nMax along rows:', np.max(my_matrix,axis=1), '\\nMin along columns:', np.min(my_matrix,axis=0))\n",
    "print('\\nMax indexes along rows:', np.argmax(my_matrix,axis=1), '\\nMin indexes along columns:', np.argmin(my_matrix,axis=0))\n",
    "print('\\nIterate over matrix:')\n",
    "for index, value in np.ndenumerate(my_matrix):\n",
    "    print('Index:', index,'Value:', value)"
   ]
  },
  {
   "cell_type": "markdown",
   "metadata": {},
   "source": [
    "## Q10 (10%)\n",
    "Create a matrix of size 5x5 with random 2-digit numbers. Do the following tasks:\n",
    "1. Reverse both along rows and columns.\n",
    "2. Sort along rows in descending order.\n",
    "3. Sort along columns in descending order.\n",
    "4. Sort all 25 elements in descending order, i.e. at index (1,1) you should have the largest element, and at index (5,5) the smallest element. "
   ]
  },
  {
   "cell_type": "code",
   "execution_count": 18,
   "metadata": {},
   "outputs": [
    {
     "name": "stdout",
     "output_type": "stream",
     "text": [
      "Reverse both along rows and columns:\n",
      " [[63 29 76 24 10]\n",
      " [80 94 69 99 33]\n",
      " [24 62 34 70 70]\n",
      " [91 95 14 67 23]\n",
      " [49 37 63 83 11]]\n",
      "\n",
      "Sort along rows in descending order:\n",
      " [[76 63 29 24 10]\n",
      " [99 94 80 69 33]\n",
      " [70 70 62 34 24]\n",
      " [95 91 67 23 14]\n",
      " [83 63 49 37 11]]\n",
      "\n",
      "Sort along columns in descending order:\n",
      " [[91 95 76 99 70]\n",
      " [80 94 69 83 33]\n",
      " [63 62 63 70 23]\n",
      " [49 37 34 67 11]\n",
      " [24 29 14 24 10]]\n",
      "\n",
      "All 25 elements in descending order:\n",
      " [[99 94 80 69 33]\n",
      " [95 91 67 37 24]\n",
      " [83 70 62 34 14]\n",
      " [76 63 49 24 11]\n",
      " [70 63 29 23 10]]\n"
     ]
    }
   ],
   "source": [
    "# your code here\n",
    "my_matrix1 = np.random.randint(10,100,(5,5))\n",
    "\n",
    "print('Reverse both along rows and columns:\\n', my_matrix1[::-1,::-1])\n",
    "print('\\nSort along rows in descending order:\\n', np.flip(np.sort(my_matrix1,axis=1)))\n",
    "print('\\nSort along columns in descending order:\\n', np.flip(np.sort(my_matrix1,axis=0)))\n",
    "print('\\nAll 25 elements in descending order:\\n', np.flip(np.sort((np.sort(my_matrix1,axis=1)),axis=0)))\n"
   ]
  },
  {
   "cell_type": "markdown",
   "metadata": {},
   "source": [
    "---\n",
    "\n",
    "### Evaluation (Keep it!)\n",
    "\n",
    "| Question | Mark     | Comment   \n",
    "|:-------:|:--------:|:----------------------\n",
    "| 1       |   10/10    |     \n",
    "| 2       |   10/10     | \n",
    "| 3       |   10/10     | \n",
    "| 4       |   10/10     | \n",
    "| 5       |   10/10    |     \n",
    "| 6       |   10/10     | \n",
    "| 7       |   10/10     | \n",
    "| 8       |   10/10     | \n",
    "| 9       |   10/10     | \n",
    "| 10       |   10/10     | \n",
    "|**Total**|**100/100**  | \n"
   ]
  }
 ],
 "metadata": {
  "kernelspec": {
   "display_name": "Python 3",
   "language": "python",
   "name": "python3"
  },
  "language_info": {
   "codemirror_mode": {
    "name": "ipython",
    "version": 3
   },
   "file_extension": ".py",
   "mimetype": "text/x-python",
   "name": "python",
   "nbconvert_exporter": "python",
   "pygments_lexer": "ipython3",
   "version": "3.8.8"
  }
 },
 "nbformat": 4,
 "nbformat_minor": 4
}
